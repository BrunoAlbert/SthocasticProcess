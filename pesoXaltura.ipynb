{
 "cells": [
  {
   "cell_type": "markdown",
   "metadata": {},
   "source": [
    "# Peso x Altura\n",
    "\n",
    "Estatísticas do peso e da altura dos alunos de Processos Estocásticos desde julho/19.\n",
    "\n",
    "Vamos calcular o peso médio e a altura média, seus respectivos desvios padrão, as medianas bem como o coeficiente de correlação entre essas duas grandezas."
   ]
  },
  {
   "cell_type": "code",
   "execution_count": 12,
   "metadata": {},
   "outputs": [],
   "source": [
    "\"\"\"\n",
    "Created on Mon Jul 19 20:45:05 2021\n",
    "\n",
    "@author: albert\n",
    "\"\"\"\n",
    "\n",
    "import statistics as st\n",
    "import random\n",
    "import matplotlib.pyplot as plt\n",
    "import numpy as np\n",
    "import math\n",
    "from matplotlib import colors\n",
    "from matplotlib.ticker import PercentFormatter"
   ]
  },
  {
   "cell_type": "markdown",
   "metadata": {},
   "source": [
    "Entrar com os pesos e alturas"
   ]
  },
  {
   "cell_type": "code",
   "execution_count": 13,
   "metadata": {},
   "outputs": [
    {
     "data": {
      "text/plain": [
       "69"
      ]
     },
     "execution_count": 13,
     "metadata": {},
     "output_type": "execute_result"
    }
   ],
   "source": [
    "peso = [70,80, 80,72, 65,50,71.5,76,84,72,86,53,83,70,63,67,64.5,66,61.8,90,60,58,140,53,67,84,63,77,102.5,76,80,90,90,91,70,43.4,73,64,58,80,71,62,80,80,62,53,60,54,64,70,120,82,56,68,56,67,68,75,75,80,51,78,67,60.5,61,104,75,79.8,57]\n",
    "\n",
    "altura = [1.71,1.87,1.7,1.80,1.80,1.61,1.86,1.75,1.88,1.70,1.85,1.56,1.74,1.80,1.71,1.70,1.71, 1.79,1.73,1.72,1.70,1.60,1.82,1.75,1.74,1.80,1.72,1.70,1.83,1.71,1.74,1.80,1.80,1.77,1.75,1.53,1.81,1.63,1.70,1.77,1.85,1.71,1.80,1.80,1.76,1.70,1.63,1.74,1.80,1.75,1.80,1.77,1.60,1.73,1.68,1.80,1.74,1.77,1.75,1.85,1.68,1.78,1.80,1.76,1.68,1.83,1.74,1.80,1.60]\n",
    "len(peso)\n",
    "len(altura)\n"
   ]
  },
  {
   "cell_type": "markdown",
   "metadata": {},
   "source": [
    "## Peso médio, desvio padrão e mediana do peso"
   ]
  },
  {
   "cell_type": "code",
   "execution_count": 14,
   "metadata": {},
   "outputs": [
    {
     "name": "stdout",
     "output_type": "stream",
     "text": [
      "peso médio  72.18840579710145 \n",
      "desvio padrão do peso:  15.928327856479326 \n",
      "mediana do peso:  70\n"
     ]
    }
   ],
   "source": [
    "print(\"peso médio \", st.mean(peso), \"\\ndesvio padrão do peso: \", st.stdev(peso), \"\\nmediana do peso: \", st.median(peso))"
   ]
  },
  {
   "cell_type": "markdown",
   "metadata": {},
   "source": [
    "## Altura média, desvio padrão e mediana da altura"
   ]
  },
  {
   "cell_type": "code",
   "execution_count": 15,
   "metadata": {},
   "outputs": [
    {
     "name": "stdout",
     "output_type": "stream",
     "text": [
      "altura média  1.7443478260869565 \n",
      "desvio padrão da altura:  0.07407226719402768 \n",
      "mediana da altura:  1.75\n"
     ]
    }
   ],
   "source": [
    "print(\"altura média \", st.mean(altura), \"\\ndesvio padrão da altura: \", st.stdev(altura), \"\\nmediana da altura: \", st.median(altura))"
   ]
  },
  {
   "cell_type": "markdown",
   "metadata": {},
   "source": [
    "## Histogramas"
   ]
  },
  {
   "cell_type": "code",
   "execution_count": 16,
   "metadata": {},
   "outputs": [
    {
     "data": {
      "image/png": "[encoded data removed]",
      "text/plain": [
       "<Figure size 432x288 with 2 Axes>"
      ]
     },
     "metadata": {
      "needs_background": "light"
     },
     "output_type": "display_data"
    },
    {
     "data": {
      "image/png": "[encoded data removed]",
      "text/plain": [
       "<Figure size 432x288 with 1 Axes>"
      ]
     },
     "metadata": {
      "needs_background": "light"
     },
     "output_type": "display_data"
    }
   ],
   "source": [
    "fig, axs = plt.subplots(1, 2, sharey=True, tight_layout=True)\n",
    "\n",
    "axs[0].hist(peso)\n",
    "axs[1].hist(altura)\n",
    "\n",
    "fig, ax = plt.subplots(tight_layout=True)\n",
    "hist = ax.hist2d(peso, altura)"
   ]
  },
  {
   "cell_type": "markdown",
   "metadata": {},
   "source": [
    "## Diagrama de espalhamento peso x altura"
   ]
  },
  {
   "cell_type": "code",
   "execution_count": 17,
   "metadata": {},
   "outputs": [
    {
     "data": {
      "image/png": "[encoded data removed]",
      "text/plain": [
       "<Figure size 432x288 with 1 Axes>"
      ]
     },
     "metadata": {
      "needs_background": "light"
     },
     "output_type": "display_data"
    }
   ],
   "source": [
    "plt.scatter(peso,altura)\n",
    "plt.show()"
   ]
  },
  {
   "cell_type": "markdown",
   "metadata": {},
   "source": [
    "## Coeficiente de correlação peso x altura"
   ]
  },
  {
   "cell_type": "code",
   "execution_count": 18,
   "metadata": {},
   "outputs": [
    {
     "name": "stdout",
     "output_type": "stream",
     "text": [
      "coeficiente de correlação: peso X altura  0.5984009159981623\n"
     ]
    }
   ],
   "source": [
    "print(\"coeficiente de correlação: peso X altura \", np.corrcoef(peso,altura)[0,1])\n"
   ]
  },
  {
   "cell_type": "code",
   "execution_count": null,
   "metadata": {},
   "outputs": [],
   "source": []
  }
 ],
 "metadata": {
  "kernelspec": {
   "display_name": "Python 3",
   "language": "python",
   "name": "python3"
  },
  "language_info": {
   "codemirror_mode": {
    "name": "ipython",
    "version": 3
   },
   "file_extension": ".py",
   "mimetype": "text/x-python",
   "name": "python",
   "nbconvert_exporter": "python",
   "pygments_lexer": "ipython3",
   "version": "3.7.6"
  }
 },
 "nbformat": 4,
 "nbformat_minor": 4
}
