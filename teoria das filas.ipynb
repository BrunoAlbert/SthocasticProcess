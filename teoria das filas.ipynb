{
 "cells": [
  {
   "cell_type": "markdown",
   "metadata": {},
   "source": [
    "# Teoria das filas\n",
    "\n",
    "Análise de um sistema de filas M/M/1\n",
    "\n",
    "(Baseado no livro Modeling Random Systems - J. R. Cogdell - Seção 5.3 pg 500)"
   ]
  },
  {
   "cell_type": "code",
   "execution_count": 73,
   "metadata": {},
   "outputs": [],
   "source": [
    "\"\"\"\n",
    "@author: albert\n",
    "IQuanta - DEE - UFCG\n",
    "Data: março 2022\n",
    "Versão: 1.0\n",
    "\"\"\"\n",
    "\n",
    "import random\n",
    "import matplotlib.pyplot as plt\n",
    "import numpy as np\n",
    "from numpy import random\n",
    "import math"
   ]
  },
  {
   "cell_type": "markdown",
   "metadata": {},
   "source": [
    "## Tempo entre chegadas\n",
    "\n",
    "Nesse modelo os clientes chegam de acordo com uma distribuição de Poisson, portanto o tempo entre chegadas de clientes tem uma distribuição exponencial\n",
    "\n",
    "São geradas 10 variáveis aleatórias exponenciais com com taxa de chegada de $\\lambda$ cliente/min.\n",
    "\n"
   ]
  },
  {
   "cell_type": "code",
   "execution_count": 74,
   "metadata": {},
   "outputs": [
    {
     "name": "stdout",
     "output_type": "stream",
     "text": [
      "Tempo entre chegadas =  [2.51038428 0.21595868 0.7222609  4.77453815 0.07953103 0.98962632\n",
      " 1.09875143 1.86171601 3.82371527 0.22723385]\n"
     ]
    }
   ],
   "source": [
    "Numero_clientes = 10\n",
    "taxa_chegadas = 1\n",
    "taxa_servico = 1.5\n",
    "\n",
    "# tempo_entrechegadas = [0.854, 0.184, 3.22, 2.65, 1.59, 0.384, 0.993, 0.07, 2.33, 0.503]\n",
    "tempo_entrechegadas = random.exponential(scale=(1/taxa_chegadas), size=(Numero_clientes))\n",
    "print('Tempo entre chegadas = ', tempo_entrechegadas)"
   ]
  },
  {
   "cell_type": "markdown",
   "metadata": {},
   "source": [
    "O primeiro cliente chega no tempo"
   ]
  },
  {
   "cell_type": "code",
   "execution_count": 75,
   "metadata": {},
   "outputs": [
    {
     "name": "stdout",
     "output_type": "stream",
     "text": [
      "2.5103842762851385  min\n"
     ]
    }
   ],
   "source": [
    "print(tempo_entrechegadas[0], ' min')"
   ]
  },
  {
   "cell_type": "markdown",
   "metadata": {},
   "source": [
    "o segundo cliente "
   ]
  },
  {
   "cell_type": "code",
   "execution_count": 76,
   "metadata": {},
   "outputs": [
    {
     "name": "stdout",
     "output_type": "stream",
     "text": [
      "0.21595867976471844  min\n"
     ]
    }
   ],
   "source": [
    "print(tempo_entrechegadas[1], ' min')"
   ]
  },
  {
   "cell_type": "markdown",
   "metadata": {},
   "source": [
    "depois do primeiro, e assim por diante."
   ]
  },
  {
   "cell_type": "markdown",
   "metadata": {},
   "source": [
    "## Tempo de atendimento (serviço)\n",
    "\n",
    "Os tempos de atendimento são modelados também por uma v.a. exponencial com uma taxa de $\\lambda_S$ clientes/min"
   ]
  },
  {
   "cell_type": "code",
   "execution_count": 77,
   "metadata": {},
   "outputs": [
    {
     "name": "stdout",
     "output_type": "stream",
     "text": [
      "Tempo de atendimento =  [0.35121506 0.66189543 0.08339561 1.19550668 0.27089706 0.78764656\n",
      " 1.7943742  1.4502548  0.67444416 1.98790976]\n"
     ]
    }
   ],
   "source": [
    "# tempo_servico = [1.46, 0.442, 0.282, 0.969, 0.486, 0.57, 0.657, 1.32, 0.0195, 0.71]\n",
    "tempo_servico = random.exponential(scale=(1/taxa_servico), size=(Numero_clientes))\n",
    "print('Tempo de atendimento = ', tempo_servico)"
   ]
  },
  {
   "cell_type": "markdown",
   "metadata": {},
   "source": [
    "Ou seja o primeiro cliente levou"
   ]
  },
  {
   "cell_type": "code",
   "execution_count": 78,
   "metadata": {},
   "outputs": [
    {
     "name": "stdout",
     "output_type": "stream",
     "text": [
      "0.3512150566939792  min\n"
     ]
    }
   ],
   "source": [
    "print(tempo_servico[0], ' min')"
   ]
  },
  {
   "cell_type": "markdown",
   "metadata": {},
   "source": [
    "sendo atendido, o segundo cliente levou"
   ]
  },
  {
   "cell_type": "code",
   "execution_count": 79,
   "metadata": {},
   "outputs": [
    {
     "name": "stdout",
     "output_type": "stream",
     "text": [
      "0.6618954344665483  min\n"
     ]
    }
   ],
   "source": [
    "print(tempo_servico[1], ' min')"
   ]
  },
  {
   "cell_type": "markdown",
   "metadata": {},
   "source": [
    "sendo atendido e assim por diante."
   ]
  },
  {
   "cell_type": "markdown",
   "metadata": {},
   "source": [
    "## Tempo de chegada\n",
    "\n",
    "O primeiro cliente chega ao sistema em"
   ]
  },
  {
   "cell_type": "code",
   "execution_count": 80,
   "metadata": {},
   "outputs": [
    {
     "name": "stdout",
     "output_type": "stream",
     "text": [
      "2.5103842762851385  min\n"
     ]
    }
   ],
   "source": [
    "print(tempo_entrechegadas[0], ' min')"
   ]
  },
  {
   "cell_type": "markdown",
   "metadata": {},
   "source": [
    "o segundo cliente chega ao sistema em"
   ]
  },
  {
   "cell_type": "code",
   "execution_count": 81,
   "metadata": {},
   "outputs": [
    {
     "name": "stdout",
     "output_type": "stream",
     "text": [
      "2.726342956049857  min\n"
     ]
    }
   ],
   "source": [
    "print(tempo_entrechegadas[0] + tempo_entrechegadas[1], ' min')"
   ]
  },
  {
   "cell_type": "markdown",
   "metadata": {},
   "source": [
    "e assim por diante."
   ]
  },
  {
   "cell_type": "code",
   "execution_count": 82,
   "metadata": {},
   "outputs": [
    {
     "name": "stdout",
     "output_type": "stream",
     "text": [
      "Tempo de chegada  [2.5103842762851385, 2.726342956049857, 3.448603861022883, 8.223142009222649, 8.302673042447356, 9.292299361025671, 10.391050793982775, 12.252766808670446, 16.076482082237128, 16.303715929259678]\n"
     ]
    },
    {
     "data": {
      "image/png": "[encoded data removed]",
      "text/plain": [
       "<Figure size 432x288 with 1 Axes>"
      ]
     },
     "metadata": {
      "needs_background": "light"
     },
     "output_type": "display_data"
    }
   ],
   "source": [
    "tempo_chegada = []\n",
    "for k in range(Numero_clientes):\n",
    "    tempo_chegada.append(0)\n",
    "    \n",
    "for i in range(Numero_clientes):\n",
    "    if(i == 0):\n",
    "        tempo_chegada[0] = tempo_entrechegadas[0]\n",
    "    else:\n",
    "        tempo_chegada[i] = tempo_chegada[i-1] + tempo_entrechegadas[i]\n",
    "\n",
    "print('Tempo de chegada ', tempo_chegada)\n",
    "\n",
    "cliente = list(range(1, Numero_clientes+1))\n",
    "plt.step(tempo_chegada, cliente, 'bo-')\n",
    "plt.show()"
   ]
  },
  {
   "cell_type": "markdown",
   "metadata": {},
   "source": [
    "## Tempo de saída\n",
    "\n",
    "O tempo de saída é calculado da seguinte forma:\n",
    "- o primeiro cliente é imediatamente atendido e portanto o seu tempo de saída é tempo de chegada + tempo de atendimento\n",
    "- se o segundo cliente chegar antes do primeiro ter saído o seu tempo de saída é o tempo de saída do primeiro cliente + o seu tempo de atendimento, caso contrário seu tempo de saída é o seu tempo de chegada + seu tempo de atendimento\n",
    "- o mesmo procedimento para os seguintes "
   ]
  },
  {
   "cell_type": "code",
   "execution_count": 83,
   "metadata": {},
   "outputs": [
    {
     "name": "stdout",
     "output_type": "stream",
     "text": [
      "Tempo de saida  [2.8615993329791176, 3.523494767445666, 3.6068903764733955, 9.418648685278091, 9.689545743894008, 10.477192300555277, 12.27156649569306, 13.721821291092088, 16.750926242875092, 18.738836003353075]\n"
     ]
    },
    {
     "data": {
      "image/png": "[encoded data removed]",
      "text/plain": [
       "<Figure size 432x288 with 1 Axes>"
      ]
     },
     "metadata": {
      "needs_background": "light"
     },
     "output_type": "display_data"
    },
    {
     "data": {
      "image/png": "[encoded data removed]",
      "text/plain": [
       "<Figure size 432x288 with 1 Axes>"
      ]
     },
     "metadata": {
      "needs_background": "light"
     },
     "output_type": "display_data"
    }
   ],
   "source": [
    "tempo_saida = []\n",
    "for k in range(Numero_clientes):\n",
    "    tempo_saida.append(0)\n",
    "    \n",
    "for i in range(Numero_clientes):\n",
    "    if(i == 0):\n",
    "        tempo_saida[0] = tempo_chegada[0] + tempo_servico[0]\n",
    "    else:\n",
    "        if(tempo_chegada[i] < tempo_saida[i-1]):\n",
    "            tempo_saida[i] = tempo_saida[i-1] + tempo_servico[i]\n",
    "        else:\n",
    "            tempo_saida[i] = tempo_chegada[i] + tempo_servico[i]\n",
    "\n",
    "print('Tempo de saida ', tempo_saida)\n",
    "\n",
    "plt.step(tempo_saida, cliente, 'bo-')\n",
    "plt.show()\n",
    "\n",
    "plt.step(tempo_chegada, cliente, 'bo-')\n",
    "plt.step(tempo_saida, cliente, 'ro-')\n",
    "\n",
    "plt.show()"
   ]
  },
  {
   "cell_type": "markdown",
   "metadata": {},
   "source": [
    "## Tempo na fila\n",
    "\n",
    "O tempo na fila é calculado da seguinte forma:\n",
    "- o primeiro cliente é imediatamente atendido, \n",
    "- se o segundo cliente chegar antes do primeiro terminar o seu tempo na fila será o tempo de saída do primeiro menos o seu tempo de chegada, caso contrário ele é imediatamente atendido\n",
    "- e assim por diante"
   ]
  },
  {
   "cell_type": "code",
   "execution_count": 84,
   "metadata": {
    "scrolled": true
   },
   "outputs": [
    {
     "name": "stdout",
     "output_type": "stream",
     "text": [
      "Tempo na fila  [0, 0.13525637692926074, 0.07489090642278295, 0, 1.115975642830735, 0.397246382868337, 0.08614150657250264, 0.018799687022614364, 0, 0.44721031361541463]\n"
     ]
    },
    {
     "data": {
      "image/png": "[encoded data removed]",
      "text/plain": [
       "<Figure size 432x288 with 1 Axes>"
      ]
     },
     "metadata": {
      "needs_background": "light"
     },
     "output_type": "display_data"
    }
   ],
   "source": [
    "tempo_fila = []\n",
    "for k in range(Numero_clientes):\n",
    "    tempo_fila.append(0)\n",
    "    \n",
    "for i in range(Numero_clientes):\n",
    "    if(i == 0):\n",
    "        tempo_fila[0] = 0\n",
    "    else:\n",
    "        if(tempo_chegada[i] < tempo_saida[i-1]):\n",
    "            tempo_fila[i] = tempo_saida[i-1] - tempo_chegada[i]\n",
    "        else:\n",
    "            tempo_fila[i] = 0\n",
    "\n",
    "print('Tempo na fila ', tempo_fila)\n",
    "\n",
    "plt.step( cliente, tempo_fila, 'bo-')\n",
    "plt.show()"
   ]
  },
  {
   "cell_type": "markdown",
   "metadata": {},
   "source": [
    "## Tempo do cliente no sistema\n",
    "\n",
    "O tempo do cliente no sistema é a diferença entre seu tempo de chegada no sistema e o tempo de saída do sistema."
   ]
  },
  {
   "cell_type": "code",
   "execution_count": 85,
   "metadata": {},
   "outputs": [
    {
     "name": "stdout",
     "output_type": "stream",
     "text": [
      "tempo do cliente no sistema [0.3512150566939791, 0.7971518113958092, 0.15828651545051242, 1.1955066760554427, 1.3868727014466522, 1.1848929395296057, 1.8805157017102854, 1.469054482421642, 0.6744441606379645, 2.4351200740933976]\n"
     ]
    },
    {
     "data": {
      "image/png": "[encoded data removed]",
      "text/plain": [
       "<Figure size 432x288 with 1 Axes>"
      ]
     },
     "metadata": {
      "needs_background": "light"
     },
     "output_type": "display_data"
    }
   ],
   "source": [
    "tempo_sistema = []\n",
    "for k in range(Numero_clientes):\n",
    "    tempo_sistema.append(0)\n",
    "    \n",
    "for i in range(Numero_clientes):\n",
    "     tempo_sistema[i] = tempo_saida[i] - tempo_chegada[i]\n",
    "\n",
    "print('tempo do cliente no sistema', tempo_sistema)\n",
    "\n",
    "plt.step( cliente, tempo_sistema, 'bo-')\n",
    "plt.show()"
   ]
  },
  {
   "cell_type": "markdown",
   "metadata": {},
   "source": [
    "## Tempo médio estimado de clientes no sistema\n",
    "\n",
    "O tempo médio estimado que os clientes passam no sistema é igual a soma dos tempos que cada cliente passa no sistema dividido pelo número de clientes\n",
    "\n",
    "O tempo médio teórico é $ET = 1/(\\lambda_s - \\lambda)$"
   ]
  },
  {
   "cell_type": "code",
   "execution_count": 86,
   "metadata": {},
   "outputs": [
    {
     "name": "stdout",
     "output_type": "stream",
     "text": [
      "Tempo médio estimado de clientes no sistema  1.153306011943529  min\n",
      "Tempo médio teórico de clientes no sistema  2.0  min\n"
     ]
    }
   ],
   "source": [
    "tempo_esperado_sistema = sum(tempo_sistema)/Numero_clientes\n",
    "tempo_teorico_sistema = 1/(taxa_servico - taxa_chegadas)\n",
    "print('Tempo médio estimado de clientes no sistema ', tempo_esperado_sistema, ' min')\n",
    "print('Tempo médio teórico de clientes no sistema ', tempo_teorico_sistema, ' min')"
   ]
  },
  {
   "cell_type": "markdown",
   "metadata": {},
   "source": [
    "# Número de clientes no sistema\n",
    "\n",
    "O número de clientes no sistema pode ser calculado da seguinte forma\n",
    "- conta, a partir do primeiro cliente, o número de clientes que chegam antes do primeiro cliente sair\n",
    "- quando ele sai é contado -1\n",
    "- conta o número de clientes que chegam, a partir da saída do primeiro cliente, até a saída do segundo \n",
    "- e assim por diante, até o último cliente sair\n"
   ]
  },
  {
   "cell_type": "code",
   "execution_count": 87,
   "metadata": {},
   "outputs": [
    {
     "name": "stdout",
     "output_type": "stream",
     "text": [
      "eventos ent/saída [2.5103842762851385, 2.726342956049857, 2.8615993329791176, 3.448603861022883, 3.523494767445666, 3.6068903764733955, 8.223142009222649, 8.302673042447356, 9.292299361025671, 9.418648685278091, 9.689545743894008, 10.391050793982775, 10.477192300555277, 12.252766808670446, 12.27156649569306, 13.721821291092088, 16.076482082237128, 16.303715929259678, 16.750926242875092, 0]\n",
      "Clientes no sistema [1, 2, 1, 2, 1, 0, 1, 2, 3, 2, 1, 2, 1, 2, 1, 0, 1, 2, 1, 0]\n",
      "1\n"
     ]
    },
    {
     "data": {
      "image/png": "[encoded data removed]",
      "text/plain": [
       "<Figure size 432x288 with 1 Axes>"
      ]
     },
     "metadata": {
      "needs_background": "light"
     },
     "output_type": "display_data"
    }
   ],
   "source": [
    "clientes_no_sistema = []\n",
    "eventos_ES = [] # tempos de chegada e de saída ordenados\n",
    "\n",
    "dobro = 2*Numero_clientes\n",
    "for k in range(dobro):\n",
    "    clientes_no_sistema.append(0)\n",
    "    eventos_ES.append(0)\n",
    "\n",
    "contador = 0\n",
    "j = 0\n",
    "\n",
    "for i in range(Numero_clientes):\n",
    "    if(j < Numero_clientes):\n",
    "        while((tempo_saida[i] > tempo_chegada[j])): # and (i < (Numero_clientes-1))):\n",
    "            contador += 1 \n",
    "            clientes_no_sistema[i+j] = contador\n",
    "            eventos_ES[j+i] = tempo_chegada[j]\n",
    "            j += 1\n",
    "            if(j == Numero_clientes):\n",
    "                break\n",
    "        contador -=1\n",
    "        clientes_no_sistema[i+j] = contador\n",
    "        eventos_ES[j+i] = tempo_saida[i]\n",
    "\n",
    "print('eventos ent/saída', eventos_ES)\n",
    "print('Clientes no sistema', clientes_no_sistema)\n",
    "print(contador)\n",
    "\n",
    "plt.step(eventos_ES, clientes_no_sistema, '-bo')\n",
    "plt.show()"
   ]
  },
  {
   "cell_type": "code",
   "execution_count": null,
   "metadata": {},
   "outputs": [],
   "source": []
  },
  {
   "cell_type": "markdown",
   "metadata": {},
   "source": [
    "## Estimativa da taxa de chegadas\n",
    "\n",
    "$\\hat{\\lambda} =$ Numero de clientes/tempo de chegada do último cliente\n",
    "\n",
    "taxa correta, (a que gerou os valores) $\\lambda = 1$ cliente/min"
   ]
  },
  {
   "cell_type": "code",
   "execution_count": 88,
   "metadata": {},
   "outputs": [
    {
     "name": "stdout",
     "output_type": "stream",
     "text": [
      "Taxa de chegadas estimada 0.6133571048090558  clientes/min\n"
     ]
    }
   ],
   "source": [
    "lambda_estimado = Numero_clientes/tempo_chegada[Numero_clientes-1]\n",
    "\n",
    "print('Taxa de chegadas estimada', lambda_estimado, ' clientes/min')"
   ]
  },
  {
   "cell_type": "markdown",
   "metadata": {},
   "source": [
    "## Estimativa da taxa de atendimento (serviço)\n",
    "\n",
    "$\\hat{\\lambda}_s =$ Numero de clientes/soma dos tempos de atendimento\n",
    "\n",
    "taxa correta, (a que gerou os valores) $\\lambda_s = 1,5$ cliente/min"
   ]
  },
  {
   "cell_type": "code",
   "execution_count": 89,
   "metadata": {},
   "outputs": [
    {
     "name": "stdout",
     "output_type": "stream",
     "text": [
      "Taxa de atendimento estimada 1.0802006529501669  clientes/min\n"
     ]
    }
   ],
   "source": [
    "lambda_s_estimado = Numero_clientes/sum(tempo_servico)\n",
    "\n",
    "print('Taxa de atendimento estimada', lambda_s_estimado, ' clientes/min')"
   ]
  },
  {
   "cell_type": "markdown",
   "metadata": {},
   "source": [
    "## Utilização do sistema estimada\n",
    "\n",
    "Ou a probabilidade do atendente estar ocupado\n",
    "\n",
    "$\\hat{\\rho} = \\hat{\\lambda}/\\hat{\\lambda}_s$\n",
    "\n",
    "Valor correto $\\rho = \\lambda/\\lambda_s = 1/1,5 = 0,6667$"
   ]
  },
  {
   "cell_type": "code",
   "execution_count": 90,
   "metadata": {},
   "outputs": [
    {
     "name": "stdout",
     "output_type": "stream",
     "text": [
      "Utilização do sistema estimada  0.5678177504650629\n",
      "Utilização do sistema  0.6666666666666666\n"
     ]
    }
   ],
   "source": [
    "rho_estimado = lambda_estimado/lambda_s_estimado\n",
    "rho = taxa_chegadas/taxa_servico\n",
    "\n",
    "print('Utilização do sistema estimada ', rho_estimado)\n",
    "print('Utilização do sistema ', rho)"
   ]
  },
  {
   "cell_type": "markdown",
   "metadata": {},
   "source": [
    "## Número médio de clientes estimado no sistema\n",
    "\n",
    "$E\\hat{N} = \\hat{\\rho} / (1-\\hat{\\rho})$\n",
    "\n",
    "O valor esperado do número de clientes no sistema é dado por\n",
    "\n",
    "$EN = \\rho / (1-\\rho)$\n",
    "\n"
   ]
  },
  {
   "cell_type": "code",
   "execution_count": 91,
   "metadata": {},
   "outputs": [
    {
     "name": "stdout",
     "output_type": "stream",
     "text": [
      "Número médio de clientes no sistema estimado  1.3138386666182622\n",
      "Número médio de clientes no sistema  1.9999999999999998\n"
     ]
    }
   ],
   "source": [
    "EN_estimado =  rho_estimado / (1 - rho_estimado)\n",
    "EN = rho / (1 - rho)\n",
    "\n",
    "print('Número médio de clientes no sistema estimado ', EN_estimado)\n",
    "print('Número médio de clientes no sistema ', EN)"
   ]
  }
 ],
 "metadata": {
  "kernelspec": {
   "display_name": "Python 3",
   "language": "python",
   "name": "python3"
  },
  "language_info": {
   "codemirror_mode": {
    "name": "ipython",
    "version": 3
   },
   "file_extension": ".py",
   "mimetype": "text/x-python",
   "name": "python",
   "nbconvert_exporter": "python",
   "pygments_lexer": "ipython3",
   "version": "3.7.6"
  }
 },
 "nbformat": 4,
 "nbformat_minor": 4
}
