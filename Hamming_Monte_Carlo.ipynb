{
 "cells": [
  {
   "cell_type": "markdown",
   "metadata": {},
   "source": [
    "# Simulação de Monte Carlo\n",
    "## Código de Hamming (7,4)\n",
    "\n",
    "\n",
    "O código de Hamming (7,4) toma um bloco de quatro bits de dados e acrescenta três bits de paridade da seguinte forma\n",
    "\n",
    "$\\begin{bmatrix} d_1 & d_2 & d_3 & d_4 & p_1 & p_2 & p_3 \\end{bmatrix}$\n",
    "\n",
    "em que $d_i, \\quad i=1,2,3,4$ representam os dados de informação e $p_i, \\quad i=1,2,3$ representam os bits de paridade calculados da seguinte forma\n",
    "\n",
    "$p_1 = d_1 \\oplus d_2 \\oplus d_4$\n",
    "\n",
    "$p_2 = d_1 \\oplus d_3 \\oplus d_4$\n",
    "\n",
    "$p_3 = d_2 \\oplus d_3 \\oplus d_4$\n",
    "\n",
    "Isso pode ser feito utilizando-se uma matriz geradoro $G$ da seguinte forma $C = GD \\quad \\mod 2$ em que \n",
    "\n",
    "$G = \\begin{bmatrix} 1 & 0 & 0 & 0 \\\\ 0 & 1 & 0 & 0 \\\\ 0 & 0 & 1 & 0 \\\\ 0 & 0 & 0 & 1 \\\\\n",
    "                    1 & 1 & 0 & 1 \\\\ 1 & 0 & 1 & 1 \\\\ 0 & 1 & 1 & 1 \\end{bmatrix}$\n",
    "                    \n",
    "e $D = \\begin{bmatrix} d_1 & d_2 & d_3 & d_4  \\end{bmatrix}^T$\n",
    "\n",
    "\n",
    "\n",
    "\n",
    "\n",
    "Pretende-se simular um sistema de comunicações simples utilizando utilizando o código de Hamming (7,4) para correção de erros."
   ]
  },
  {
   "cell_type": "code",
   "execution_count": 1,
   "metadata": {},
   "outputs": [],
   "source": [
    "\"\"\"\n",
    "@author: albert\n",
    "IQuanta - DEE - UFCG\n",
    "Data: junho 2022\n",
    "Versão: 1.0\n",
    "\"\"\"\n",
    "\n",
    "import random\n",
    "import matplotlib.pyplot as plt\n",
    "import numpy as np"
   ]
  },
  {
   "cell_type": "code",
   "execution_count": 2,
   "metadata": {},
   "outputs": [],
   "source": [
    "# Gerar blocos de quatro bits informação aleatório\n",
    "def gerador():\n",
    "    x=[]              ## lista vazia\n",
    "    for i in range (4):\n",
    "        random.seed()\n",
    "        x.append(random.randint(0,1))\n",
    "    return x"
   ]
  },
  {
   "cell_type": "code",
   "execution_count": 33,
   "metadata": {},
   "outputs": [
    {
     "name": "stdout",
     "output_type": "stream",
     "text": [
      "[0, 0, 0, 1]\n"
     ]
    }
   ],
   "source": [
    "Info = gerador() # bits de informação\n",
    "print(Info)"
   ]
  },
  {
   "cell_type": "code",
   "execution_count": 4,
   "metadata": {},
   "outputs": [],
   "source": [
    "# Codificador de Hamming (7,4)\n",
    "def cod_hamming(d):\n",
    "    # matriz geradora transposta\n",
    "    GT = np.array([[1,0,0,0,1,1,0],[0,1,0,0,1,0,1],[0,0,1,0,0,1,1],[0,0,0,1,1,1,1]])\n",
    "    # print(GT)\n",
    "    C = d @ GT\n",
    "    return(C%2)"
   ]
  },
  {
   "cell_type": "code",
   "execution_count": 36,
   "metadata": {},
   "outputs": [
    {
     "name": "stdout",
     "output_type": "stream",
     "text": [
      "[0 0 0 1 1 1 1]\n"
     ]
    }
   ],
   "source": [
    "C_Hamming = cod_hamming(Info)\n",
    "print(C_Hamming)"
   ]
  },
  {
   "cell_type": "markdown",
   "metadata": {},
   "source": [
    "## Descodificação\n",
    "\n",
    "O código de Hamming (7,4) permite a correção de um até um erro na transmissão de uma palavra código. Considere $C\\_Hamming$ a palavra código transmitida e $Rec$ a palavra código recebida depois de passar por um canal ruidoso. Podemos escrever a palavra recebida como\n",
    "\n",
    "$Rec = C\\_Hamming \\oplus Erro$\n",
    "\n",
    "em que $Erro$ é um vetor de erro, por exemplo, caso não haja erro na transmissão $Erro = \\begin{bmatrix} 0 & 0 & 0 & 0 & 0 & 0 & 0 \\end{bmatrix}$ e a palavra código transmitida será igual a palavra recebida, caso haja um erro no segundo bit então o vetor erro seria $Erro = \\begin{bmatrix} 0 & 1 & 0 & 0 & 0 & 0 & 0 \\end{bmatrix}$.\n",
    "\n",
    "Temos que pela construção do código um vetor de síndrome da seguinte forma\n",
    "\n",
    "$p_1 = d_1 \\oplus d_2 \\oplus d_4$\n",
    "\n",
    "$p_2 = d_1 \\oplus d_3 \\oplus d_4$\n",
    "\n",
    "$p_3 = d_2 \\oplus d_3 \\oplus d_4$\n",
    "\n",
    "Para verificar se as paridades da palavra código recebida $Rec$ estão corretas, construímos um vetor de síndrome $Sindrome = \\begin{bmatrix} s_1 & s_2 & s_3 \\end{bmatrix}$ da seguinte forma\n",
    "\n",
    "$s_1 = p_1 \\oplus d_1 \\oplus d_2 \\oplus d_4$\n",
    "\n",
    "$s_2 = p_2 \\oplus d_1 \\oplus d_3 \\oplus d_4$\n",
    "\n",
    "$s_3 = p_3 \\oplus d_2 \\oplus d_3 \\oplus d_4$\n",
    "\n",
    "Quando $Sindrome = \\begin{bmatrix} 0 & 0 & 0 \\end{bmatrix}$ podemos concluir que não houve erro na transmissão ou que houveram erros suficientes para transforma a palavra código tranmitida em uma outra palavra código válida que também produz o vetor de síndrome zero. Tomando $Rec = \\begin{bmatrix} 0 & 1 & 0 & 1 & 0 & 1 & 0 \\end{bmatrix}$ verificamos que \n",
    "\n",
    "$s_1 = 0 \\oplus 0 \\oplus 1 \\oplus 1 = 0$\n",
    "\n",
    "$s_2 = 1 \\oplus 0 \\oplus 0 \\oplus 1 = 0$\n",
    "\n",
    "$s_3 = 0 \\oplus 1 \\oplus 0 \\oplus 1 = 0$\n",
    "\n",
    "estimamos então que os dados de informação foram $Info = \\begin{bmatrix} 0 & 1 & 0 & 1 \\end{bmatrix}$ \n",
    "\n",
    "Considerando que o vetor erro seria $Erro = \\begin{bmatrix} 0 & 1 & 0 & 0 & 0 & 0 & 0 \\end{bmatrix}$ então a palavra código recebida seria $Rec = \\begin{bmatrix} 0 & 0 & 0 & 1 & 0 & 1 & 0 \\end{bmatrix}$ e o vetor sindrome seria\n",
    "\n",
    "$s_1 = 0 \\oplus 0 \\oplus 0 \\oplus 1 = 1$\n",
    "\n",
    "$s_2 = 1 \\oplus 0 \\oplus 0 \\oplus 1 = 0$\n",
    "\n",
    "$s_3 = 0 \\oplus 0 \\oplus 0 \\oplus 1 = 1$\n",
    "\n",
    "$Sindrome = \\begin{bmatrix} 1 & 0 & 1 \\end{bmatrix}$ indicando que algo está errado, examinando os resultados vemos que $s_2 = 0$ então os bits $p_2,d_1,d_3, d_4$ devem estar corretos , por $s_1$ os bits errados podem ser $p1$ ou $d_2$, por $s_3$ os bits errados podem ser $p3$ ou $d_2$ e portando o bit errado deve ser $d_2$, pois modificando ele o vetor síndrome é zerado. Estimamos, então, que os dados de informação foram $Info = \\begin{bmatrix} 0 & 1 & 0 & 1 \\end{bmatrix}$ \n",
    "\n",
    "A sindrome também pode ser calculada através da matris de paridade $H$ em que os 1's das linhas da matriz correspondem aos valores calculados nas sindromes, assim a primeira linha é um em $d_1,d_2,d_4,p_1$ a segunda linha em $d_1,d_2,d_4,p_2$ e a terceira linha em $d_2,d_3,d_4,p_3$ de modo que\n",
    "\n",
    "$Sindrome = H.Rec^T = \\begin{bmatrix} 1 & 1 & 0 & 1 & 1 & 0 & 0 \\\\ 1 & 0 & 1 & 1 & 0 & 1 & 0 \\\\ 0 & 1 & 1 & 1 & 0 & 0 & 1 \\end{bmatrix}Rec^T$\n",
    "\n",
    "em que $Rec^T$ é a transposta de $Rec$, ou seja um vetor coluna. Observe que a síndrome $Sindrome = \\begin{bmatrix} 1 & 0 & 1 \\end{bmatrix}$  correponde a segunda linha da matriz $H$ indicando que o bit $d_2$ é o que está errado e correponde a $H.Erro^T$"
   ]
  },
  {
   "cell_type": "code",
   "execution_count": 27,
   "metadata": {},
   "outputs": [],
   "source": [
    "def descodificador(r): # r é a palavra código recebida\n",
    "    print(r)\n",
    "    # matriz de paridade H\n",
    "    H = np.array([[1,1,0,1,1,0,0],[1,0,1,1,0,1,0],[0,1,1,1,0,0,1]])\n",
    "    Sindrome = (H @ r.T)%2\n",
    "    print(Sindrome)\n",
    "    \n",
    "    # Cálculo do vetor erro ou da posição da síndrome na matriz H que indica onde o erro ocorreu.\n",
    "    \n",
    "    # inicializa o vetor erro com zeros\n",
    "    Erro = []\n",
    "    for k in range(7):\n",
    "        Erro.append(0)\n",
    "    \n",
    "    Erro[0] = Sindrome[0] & Sindrome[1] & (Sindrome[2] ^ 1)\n",
    "    Erro[1] = Sindrome[0] & (Sindrome[1] ^ 1) & Sindrome[2]\n",
    "    Erro[2] = (Sindrome[0] ^ 1) & Sindrome[1] & Sindrome[2]\n",
    "    Erro[3] = Sindrome[0] & Sindrome[1] & Sindrome[2]\n",
    "    Erro[4] = Sindrome[0] & (Sindrome[1] ^ 1) & (Sindrome[2] ^ 1)\n",
    "    Erro[5] = (Sindrome[0] ^ 1) & Sindrome[1] & (Sindrome[2] ^ 1)\n",
    "    Erro[6] = (Sindrome[0] ^ 1) & (Sindrome[1] ^ 1) & Sindrome[2]\n",
    "    print(Erro)\n",
    "    \n",
    "    # Estimação da palavra código enviada\n",
    "    Cod_estimado = []\n",
    "    for k in range(7):\n",
    "        Cod_estimado.append(r[k] ^ Erro[k])\n",
    "    print(Cod_estimado)\n",
    "    \n",
    "    # Estimação da informação enviada (os 4 primeiros bits da palavra código estimada)\n",
    "    Dados_estimados = []\n",
    "    for k in range(4):\n",
    "        Dados_estimados.append(Cod_estimado[k])\n",
    "    print(Dados_estimados)\n",
    "    \n",
    "    return(Dados_estimados)"
   ]
  },
  {
   "cell_type": "code",
   "execution_count": 37,
   "metadata": {},
   "outputs": [
    {
     "name": "stdout",
     "output_type": "stream",
     "text": [
      "[0 0 0 1 1 1 0]\n",
      "[0 0 1]\n",
      "[0, 0, 0, 0, 0, 0, 1]\n",
      "[0, 0, 0, 1, 1, 1, 1]\n",
      "[0, 0, 0, 1]\n"
     ]
    },
    {
     "data": {
      "text/plain": [
       "[0, 0, 0, 1]"
      ]
     },
     "execution_count": 37,
     "metadata": {},
     "output_type": "execute_result"
    }
   ],
   "source": [
    "C_Hamming[6] = C_Hamming[6] ^ 1 # introduz um erro no segundo bit\n",
    "descodificador(C_Hamming)"
   ]
  },
  {
   "cell_type": "code",
   "execution_count": null,
   "metadata": {},
   "outputs": [],
   "source": []
  }
 ],
 "metadata": {
  "kernelspec": {
   "display_name": "Python 3",
   "language": "python",
   "name": "python3"
  },
  "language_info": {
   "codemirror_mode": {
    "name": "ipython",
    "version": 3
   },
   "file_extension": ".py",
   "mimetype": "text/x-python",
   "name": "python",
   "nbconvert_exporter": "python",
   "pygments_lexer": "ipython3",
   "version": "3.7.6"
  }
 },
 "nbformat": 4,
 "nbformat_minor": 4
}
