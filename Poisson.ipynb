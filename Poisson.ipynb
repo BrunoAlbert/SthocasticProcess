{
 "cells": [
  {
   "cell_type": "markdown",
   "metadata": {},
   "source": [
    "# Processo de Poisson\n",
    "\n",
    "Exemplo:"
   ]
  },
  {
   "cell_type": "code",
   "execution_count": 1,
   "metadata": {},
   "outputs": [],
   "source": [
    "\"\"\"\n",
    "@author: albert\n",
    "IQuanta - DEE - UFCG\n",
    "Data: março 2022\n",
    "Versão: 1.0\n",
    "\"\"\"\n",
    "\n",
    "import random\n",
    "import matplotlib.pyplot as plt\n",
    "import numpy as np\n",
    "from numpy import random\n",
    "import math"
   ]
  },
  {
   "cell_type": "markdown",
   "metadata": {},
   "source": [
    "## Tempo entre chegadas\n",
    "\n",
    "Nesse modelo os clientes chegam de acordo com uma distribuição de Poisson, portanto o tempo entre chegadas de clientes tem uma distribuição exponencial\n",
    "\n",
    "São geradas 10 variáveis aleatórias exponenciais com com taxa de chegada de $\\lambda$ cliente/min.\n"
   ]
  },
  {
   "cell_type": "code",
   "execution_count": 8,
   "metadata": {},
   "outputs": [
    {
     "name": "stdout",
     "output_type": "stream",
     "text": [
      "Tempo entre chegadas =  [0.69246021 0.80561042 0.04282103 0.31601674 1.68190644 3.05416262\n",
      " 2.22131337 2.40462552 0.87884307 3.42081116]\n"
     ]
    }
   ],
   "source": [
    "Numero_clientes = 10\n",
    "taxa_chegadas = 0.5         # número de clientes por minuto\n",
    "\n",
    "\n",
    "# tempo_entrechegadas = [0.854, 0.184, 3.22, 2.65, 1.59, 0.384, 0.993, 0.07, 2.33, 0.503]\n",
    "tempo_entrechegadas = random.exponential(scale=(1/taxa_chegadas), size=(Numero_clientes))\n",
    "print('Tempo entre chegadas = ', tempo_entrechegadas)"
   ]
  },
  {
   "cell_type": "markdown",
   "metadata": {},
   "source": [
    "Tempo de chegada\n",
    "\n",
    "O primeiro cliente chega ao sistema em"
   ]
  },
  {
   "cell_type": "code",
   "execution_count": 3,
   "metadata": {},
   "outputs": [
    {
     "name": "stdout",
     "output_type": "stream",
     "text": [
      "0.8882023038017317  min\n"
     ]
    }
   ],
   "source": [
    "print(tempo_entrechegadas[0], ' min')"
   ]
  },
  {
   "cell_type": "markdown",
   "metadata": {},
   "source": [
    "o segundo cliente chega ao sistema em"
   ]
  },
  {
   "cell_type": "code",
   "execution_count": 4,
   "metadata": {},
   "outputs": [
    {
     "name": "stdout",
     "output_type": "stream",
     "text": [
      "1.5534928051465653  min\n"
     ]
    }
   ],
   "source": [
    "print(tempo_entrechegadas[0] + tempo_entrechegadas[1], ' min')"
   ]
  },
  {
   "cell_type": "markdown",
   "metadata": {},
   "source": [
    "Assim teremos os seguintes tempos de chegada"
   ]
  },
  {
   "cell_type": "code",
   "execution_count": 15,
   "metadata": {},
   "outputs": [
    {
     "name": "stdout",
     "output_type": "stream",
     "text": [
      "Tempo de chegada  [0, 0.8056104155958745, 0.8484314435770197, 1.1644481851374722, 2.8463546220366114, 5.900517239590441, 8.121830614429802, 10.526456131045455, 11.40529920268616, 14.826110364171896, 0]\n"
     ]
    },
    {
     "data": {
      "image/png": "[encoded data removed]",
      "text/plain": [
       "<Figure size 432x288 with 1 Axes>"
      ]
     },
     "metadata": {
      "needs_background": "light"
     },
     "output_type": "display_data"
    }
   ],
   "source": [
    "tempo_chegada = []\n",
    "for k in range(Numero_clientes+1):\n",
    "    tempo_chegada.append(0)\n",
    "    \n",
    "for i in range(Numero_clientes):\n",
    "    if(i == 0):\n",
    "        tempo_chegada[1] = tempo_entrechegadas[0]\n",
    "    else:\n",
    "        tempo_chegada[i] = tempo_chegada[i-1] + tempo_entrechegadas[i]\n",
    "\n",
    "print('Tempo de chegada ', tempo_chegada)\n",
    "\n",
    "cliente = list(range(0, Numero_clientes+1))\n",
    "plt.step(tempo_chegada, cliente, 'bo-')\n",
    "plt.show()"
   ]
  },
  {
   "cell_type": "code",
   "execution_count": null,
   "metadata": {},
   "outputs": [],
   "source": []
  }
 ],
 "metadata": {
  "kernelspec": {
   "display_name": "Python 3",
   "language": "python",
   "name": "python3"
  },
  "language_info": {
   "codemirror_mode": {
    "name": "ipython",
    "version": 3
   },
   "file_extension": ".py",
   "mimetype": "text/x-python",
   "name": "python",
   "nbconvert_exporter": "python",
   "pygments_lexer": "ipython3",
   "version": "3.7.6"
  }
 },
 "nbformat": 4,
 "nbformat_minor": 4
}
