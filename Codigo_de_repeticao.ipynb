{
 "cells": [
  {
   "attachments": {
    "codificador_canal.png": {
     "image/png": "[encoded data removed]"
    }
   },
   "cell_type": "markdown",
   "metadata": {},
   "source": [
    "# CODIFICADOR DE CANAL\n",
    "\n",
    "Vamos colocar um Codificador de Canal entre a Fonte e o Canal, para melhorar a pro-\n",
    "babilidade de erro do sistema. Usaremos dois codificadores que corrigem 1 erro produzido pelo\n",
    "canal.\n",
    "\n",
    "![codificador_canal.png](attachment:codificador_canal.png)\n",
    "\n",
    "## Código de repetição\n",
    "\n",
    "Considere que para cada bit gerado pela fonte o codificador gera 3 bits iguais, por exemplo,\n",
    "\n",
    "- se $X = 0$ o transmissor envia $C = 000$ e \n",
    "- se $X = 1$ o transmissor envia $C = 111$. \n",
    "\n",
    "De modo que o descodificador escolhe $\\hat{X}$ pela maioria dos bits que chegam, por exemplo, \n",
    "\n",
    "- se a saída do canal for $\\hat{C} = 001$ o receptor escolhe $\\hat{X} = 0$, \n",
    "- por outro lado se a saída do canal for $\\hat{C} = 101$ o receptor escolhe  $\\hat{X} = 1$. \n",
    "\n",
    "Se o canal trocar 2 ou mais bits da sequência o receptor vai escolher $\\hat{X}$\n",
    "diferente de $X$, cometendo um erro. \n",
    "\n",
    "Esse procedimento diminui em 1/3 sua taxa de transmissão\n",
    "e aumenta em 3 vezes a energia gasta para transmitir um bit em compensação diminui o número\n",
    "de erros entre $X$ e $\\hat{X}$."
   ]
  },
  {
   "cell_type": "code",
   "execution_count": null,
   "metadata": {},
   "outputs": [],
   "source": []
  }
 ],
 "metadata": {
  "kernelspec": {
   "display_name": "Python 3",
   "language": "python",
   "name": "python3"
  },
  "language_info": {
   "codemirror_mode": {
    "name": "ipython",
    "version": 3
   },
   "file_extension": ".py",
   "mimetype": "text/x-python",
   "name": "python",
   "nbconvert_exporter": "python",
   "pygments_lexer": "ipython3",
   "version": "3.7.6"
  }
 },
 "nbformat": 4,
 "nbformat_minor": 4
}
