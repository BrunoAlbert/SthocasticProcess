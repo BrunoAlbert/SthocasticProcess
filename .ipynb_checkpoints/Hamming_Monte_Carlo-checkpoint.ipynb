{
 "cells": [
  {
   "cell_type": "markdown",
   "metadata": {},
   "source": [
    "# Simulação de Monte Carlo\n",
    "## Código de Hamming (7,4)\n",
    "\n",
    "\n",
    "O código de Hamming (7,4) toma um bloco de quatro bits de dados e acrescenta três bits de paridade da seguinte forma\n",
    "\n",
    "$\\begin{bmatrix} d_1 & d_2 & d_3 & d_4 & p_1 & p_2 & p_3 \\end{bmatrix}$\n",
    "\n",
    "em que $d_i, \\quad i=1,2,3,4$ representam os dados de informação e $p_i, \\quad i=1,2,3$ representam os bits de paridade calculados da seguinte forma\n",
    "\n",
    "$p_1 = d_1 \\oplus d_2 \\oplus d_4$\n",
    "\n",
    "$p_2 = d_1 \\oplus d_3 \\oplus d_4$\n",
    "\n",
    "$p_3 = d_2 \\oplus d_3 \\oplus d_4$\n",
    "\n",
    "Isso pode ser feito utilizando-se uma matriz geradoro $G$ da seguinte forma $C = GD \\quad \\mod 2$ em que \n",
    "\n",
    "$G = \\begin{bmatrix} 1 & 0 & 0 & 0 \\\\ 0 & 1 & 0 & 0 \\\\ 0 & 0 & 1 & 0 \\\\ 0 & 0 & 0 & 1 \\\\\n",
    "                    1 & 1 & 0 & 1 \\\\ 1 & 0 & 1 & 1 \\\\ 0 & 1 & 1 & 1 \\end{bmatrix}$\n",
    "                    \n",
    "e $D = \\begin{bmatrix} d_1 & d_2 & d_3 & d_4  \\end{bmatrix}^T$\n",
    "\n",
    "\n",
    "\n",
    "\n",
    "\n",
    "Pretende-se simular um sistema de comunicações simples utilizando utilizando o código de Hamming (7,4) para correção de erros."
   ]
  },
  {
   "cell_type": "code",
   "execution_count": 18,
   "metadata": {},
   "outputs": [],
   "source": [
    "\"\"\"\n",
    "@author: albert\n",
    "IQuanta - DEE - UFCG\n",
    "Data: junho 2022\n",
    "Versão: 1.0\n",
    "\"\"\"\n",
    "\n",
    "import random\n",
    "import matplotlib.pyplot as plt\n",
    "import numpy as np"
   ]
  },
  {
   "cell_type": "code",
   "execution_count": 19,
   "metadata": {},
   "outputs": [],
   "source": [
    "# Gerar blocos de quatro bits informação aleatório\n",
    "def gerador():\n",
    "    x=[]              ## lista vazia\n",
    "    for i in range (4):\n",
    "        random.seed()\n",
    "        x.append(random.randint(0,1))\n",
    "    return x"
   ]
  },
  {
   "cell_type": "code",
   "execution_count": 20,
   "metadata": {},
   "outputs": [
    {
     "name": "stdout",
     "output_type": "stream",
     "text": [
      "[1, 1, 0, 0]\n"
     ]
    }
   ],
   "source": [
    "Info = gerador() # bits de informação\n",
    "print(Info)"
   ]
  },
  {
   "cell_type": "code",
   "execution_count": 21,
   "metadata": {},
   "outputs": [],
   "source": [
    "# Codificador de Hamming (7,4)\n",
    "def cod_hamming(d):\n",
    "    # matriz geradora transposta\n",
    "    GT = np.array([[1,0,0,0,1,1,1],[0,1,0,0,1,0,1],[0,0,1,0,0,1,1],[0,0,0,1,1,1,1]])\n",
    "    C = d @ GT\n",
    "    return(C%2)"
   ]
  },
  {
   "cell_type": "code",
   "execution_count": 22,
   "metadata": {},
   "outputs": [
    {
     "name": "stdout",
     "output_type": "stream",
     "text": [
      "[1 1 0 0 0 1 0]\n"
     ]
    }
   ],
   "source": [
    "C_Hamming = cod_hamming(Info)\n",
    "print(C_Hamming)"
   ]
  },
  {
   "cell_type": "code",
   "execution_count": null,
   "metadata": {},
   "outputs": [],
   "source": []
  }
 ],
 "metadata": {
  "kernelspec": {
   "display_name": "Python 3",
   "language": "python",
   "name": "python3"
  },
  "language_info": {
   "codemirror_mode": {
    "name": "ipython",
    "version": 3
   },
   "file_extension": ".py",
   "mimetype": "text/x-python",
   "name": "python",
   "nbconvert_exporter": "python",
   "pygments_lexer": "ipython3",
   "version": "3.7.6"
  }
 },
 "nbformat": 4,
 "nbformat_minor": 4
}
