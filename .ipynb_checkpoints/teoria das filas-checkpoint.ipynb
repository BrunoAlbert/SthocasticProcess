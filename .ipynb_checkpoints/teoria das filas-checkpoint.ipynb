{
 "cells": [
  {
   "cell_type": "markdown",
   "metadata": {},
   "source": [
    "# Teoria das filas\n",
    "\n",
    "Análise de um sistema de filas M/M/1\n",
    "\n",
    "(Baseado no livro Modeling Random Systems - J. R. Cogdell - Seção 5.3 pg 500)"
   ]
  },
  {
   "cell_type": "code",
   "execution_count": 131,
   "metadata": {},
   "outputs": [],
   "source": [
    "\"\"\"\n",
    "@author: albert\n",
    "IQuanta - DEE - UFCG\n",
    "Data: março 2022\n",
    "Versão: 1.0\n",
    "\"\"\"\n",
    "\n",
    "import random\n",
    "import matplotlib.pyplot as plt\n",
    "import numpy as np\n",
    "from numpy import random\n",
    "import math"
   ]
  },
  {
   "cell_type": "markdown",
   "metadata": {},
   "source": [
    "## Tempo entre chegadas\n",
    "\n",
    "Nesse modelo os clientes chegam de acordo com uma distribuição de Poisson, portanto o tempo entre chegadas de clientes tem uma distribuição exponencial\n",
    "\n",
    "São geradas 10 variáveis aleatórias exponenciais com com taxa de chegada de $\\lambda$ cliente/min.\n",
    "\n"
   ]
  },
  {
   "cell_type": "code",
   "execution_count": 132,
   "metadata": {},
   "outputs": [
    {
     "name": "stdout",
     "output_type": "stream",
     "text": [
      "Tempo entre chegadas =  [1.14096217 0.22680676 0.61687005 0.34346493 0.75281696 0.96226412\n",
      " 0.54844579 0.91185834 0.31297662 0.50353262]\n"
     ]
    }
   ],
   "source": [
    "Numero_clientes = 10\n",
    "taxa_chegadas = 1\n",
    "taxa_servico = 1.5\n",
    "\n",
    "# tempo_entrechegadas = [0.854, 0.184, 3.22, 2.65, 1.59, 0.384, 0.993, 0.07, 2.33, 0.503]\n",
    "tempo_entrechegadas = random.exponential(scale=(1/taxa_chegadas), size=(Numero_clientes))\n",
    "print('Tempo entre chegadas = ', tempo_entrechegadas)"
   ]
  },
  {
   "cell_type": "markdown",
   "metadata": {},
   "source": [
    "O primeiro cliente chega no tempo"
   ]
  },
  {
   "cell_type": "code",
   "execution_count": 133,
   "metadata": {},
   "outputs": [
    {
     "name": "stdout",
     "output_type": "stream",
     "text": [
      "1.1409621678365072  min\n"
     ]
    }
   ],
   "source": [
    "print(tempo_entrechegadas[0], ' min')"
   ]
  },
  {
   "cell_type": "markdown",
   "metadata": {},
   "source": [
    "o segundo cliente "
   ]
  },
  {
   "cell_type": "code",
   "execution_count": 134,
   "metadata": {},
   "outputs": [
    {
     "name": "stdout",
     "output_type": "stream",
     "text": [
      "0.22680675996808436  min\n"
     ]
    }
   ],
   "source": [
    "print(tempo_entrechegadas[1], ' min')"
   ]
  },
  {
   "cell_type": "markdown",
   "metadata": {},
   "source": [
    "depois do primeiro, e assim por diante."
   ]
  },
  {
   "cell_type": "markdown",
   "metadata": {},
   "source": [
    "## Tempo de atendimento (serviço)\n",
    "\n",
    "Os tempos de atendimento são modelados também por uma v.a. exponencial com uma taxa de $\\lambda_S$ clientes/min"
   ]
  },
  {
   "cell_type": "code",
   "execution_count": 135,
   "metadata": {},
   "outputs": [
    {
     "name": "stdout",
     "output_type": "stream",
     "text": [
      "Tempo de atencimento =  [0.29226715 0.79753721 1.57550366 0.0056781  0.10740267 0.3160896\n",
      " 0.56604514 0.71732175 0.04050847 0.153136  ]\n"
     ]
    }
   ],
   "source": [
    "# tempo_servico = [1.46, 0.442, 0.282, 0.969, 0.486, 0.57, 0.657, 1.32, 0.0195, 0.71]\n",
    "tempo_servico = random.exponential(scale=(1/taxa_servico), size=(Numero_clientes))\n",
    "print('Tempo de atendimento = ', tempo_servico)"
   ]
  },
  {
   "cell_type": "markdown",
   "metadata": {},
   "source": [
    "Ou seja o primeiro cliente levou"
   ]
  },
  {
   "cell_type": "code",
   "execution_count": 136,
   "metadata": {},
   "outputs": [
    {
     "name": "stdout",
     "output_type": "stream",
     "text": [
      "0.2922671468982053  min\n"
     ]
    }
   ],
   "source": [
    "print(tempo_servico[0], ' min')"
   ]
  },
  {
   "cell_type": "markdown",
   "metadata": {},
   "source": [
    "sendo atendido, o segundo cliente levou"
   ]
  },
  {
   "cell_type": "code",
   "execution_count": 137,
   "metadata": {},
   "outputs": [
    {
     "name": "stdout",
     "output_type": "stream",
     "text": [
      "0.7975372097550504  min\n"
     ]
    }
   ],
   "source": [
    "print(tempo_servico[1], ' min')"
   ]
  },
  {
   "cell_type": "markdown",
   "metadata": {},
   "source": [
    "sendo atendido e assim por diante."
   ]
  },
  {
   "cell_type": "markdown",
   "metadata": {},
   "source": [
    "## Tempo de chegada\n",
    "\n",
    "O primeiro cliente chega ao sistema em"
   ]
  },
  {
   "cell_type": "code",
   "execution_count": 138,
   "metadata": {},
   "outputs": [
    {
     "name": "stdout",
     "output_type": "stream",
     "text": [
      "1.1409621678365072  min\n"
     ]
    }
   ],
   "source": [
    "print(tempo_entrechegadas[0], ' min')"
   ]
  },
  {
   "cell_type": "markdown",
   "metadata": {},
   "source": [
    "o segundo cliente chega ao sistema em"
   ]
  },
  {
   "cell_type": "code",
   "execution_count": 139,
   "metadata": {},
   "outputs": [
    {
     "name": "stdout",
     "output_type": "stream",
     "text": [
      "1.3677689278045915  min\n"
     ]
    }
   ],
   "source": [
    "print(tempo_entrechegadas[0] + tempo_entrechegadas[1], ' min')"
   ]
  },
  {
   "cell_type": "markdown",
   "metadata": {},
   "source": [
    "e assim por diante."
   ]
  },
  {
   "cell_type": "code",
   "execution_count": 140,
   "metadata": {},
   "outputs": [
    {
     "name": "stdout",
     "output_type": "stream",
     "text": [
      "Tempo de chegada  [1.1409621678365072, 1.3677689278045915, 1.9846389747049304, 2.3281039040952565, 3.0809208676284516, 4.0431849918728116, 4.59163078480008, 5.503489125074677, 5.816465747509356, 6.319998367811511]\n"
     ]
    },
    {
     "data": {
      "image/png": "[encoded data removed]",
      "text/plain": [
       "<Figure size 432x288 with 1 Axes>"
      ]
     },
     "metadata": {
      "needs_background": "light"
     },
     "output_type": "display_data"
    }
   ],
   "source": [
    "tempo_chegada = []\n",
    "for k in range(Numero_clientes):\n",
    "    tempo_chegada.append(0)\n",
    "    \n",
    "for i in range(Numero_clientes):\n",
    "    if(i == 0):\n",
    "        tempo_chegada[0] = tempo_entrechegadas[0]\n",
    "    else:\n",
    "        tempo_chegada[i] = tempo_chegada[i-1] + tempo_entrechegadas[i]\n",
    "\n",
    "print('Tempo de chegada ', tempo_chegada)\n",
    "\n",
    "cliente = list(range(1, Numero_clientes+1))\n",
    "plt.step(tempo_chegada, cliente, 'bo-')\n",
    "plt.show()"
   ]
  },
  {
   "cell_type": "markdown",
   "metadata": {},
   "source": [
    "## Tempo de saída\n",
    "\n",
    "O tempo de saída é calculado da seguinte forma:\n",
    "- o primeiro cliente é imediatamente atendido e portanto o seu tempo de saída é tempo de chegada + tempo de atendimento\n",
    "- se o segundo cliente chegar antes do primeiro ter saído o seu tempo de saída é o tempo de saída do primeiro cliente + o seu tempo de atendimento, caso contrário seu tempo de saída é o seu tempo de chegada + seu tempo de atendimento\n",
    "- o mesmo procedimento para os seguintes "
   ]
  },
  {
   "cell_type": "code",
   "execution_count": 141,
   "metadata": {},
   "outputs": [
    {
     "name": "stdout",
     "output_type": "stream",
     "text": [
      "Tempo de saida  [1.4332293147347124, 2.2307665244897628, 3.806270180460533, 3.8119482773605413, 3.9193509483085966, 4.359274595074151, 5.157675928526732, 6.22081087657883, 6.26131935071664, 6.4731343713382925]\n"
     ]
    },
    {
     "data": {
      "image/png": "[encoded data removed]",
      "text/plain": [
       "<Figure size 432x288 with 1 Axes>"
      ]
     },
     "metadata": {
      "needs_background": "light"
     },
     "output_type": "display_data"
    },
    {
     "data": {
      "image/png": "[encoded data removed]",
      "text/plain": [
       "<Figure size 432x288 with 1 Axes>"
      ]
     },
     "metadata": {
      "needs_background": "light"
     },
     "output_type": "display_data"
    }
   ],
   "source": [
    "tempo_saida = []\n",
    "for k in range(Numero_clientes):\n",
    "    tempo_saida.append(0)\n",
    "    \n",
    "for i in range(Numero_clientes):\n",
    "    if(i == 0):\n",
    "        tempo_saida[0] = tempo_chegada[0] + tempo_servico[0]\n",
    "    else:\n",
    "        if(tempo_chegada[i] < tempo_saida[i-1]):\n",
    "            tempo_saida[i] = tempo_saida[i-1] + tempo_servico[i]\n",
    "        else:\n",
    "            tempo_saida[i] = tempo_chegada[i] + tempo_servico[i]\n",
    "\n",
    "print('Tempo de saida ', tempo_saida)\n",
    "\n",
    "plt.step(tempo_saida, cliente, 'bo-')\n",
    "plt.show()\n",
    "\n",
    "plt.step(tempo_chegada, cliente, 'bo-')\n",
    "plt.step(tempo_saida, cliente, 'ro-')\n",
    "\n",
    "plt.show()"
   ]
  },
  {
   "cell_type": "markdown",
   "metadata": {},
   "source": [
    "## Tempo na fila\n",
    "\n",
    "O tempo na fila é calculado da seguinte forma:\n",
    "- o primeiro cliente é imediatamente atendido, \n",
    "- se o segundo cliente chegar antes do primeiro terminar o seu tempo na fila será o tempo de saída do primeiro menos o seu tempo de chegada, caso contrário ele é imediatamente atendido\n",
    "- e assim por diante"
   ]
  },
  {
   "cell_type": "code",
   "execution_count": 142,
   "metadata": {},
   "outputs": [
    {
     "name": "stdout",
     "output_type": "stream",
     "text": [
      "Tempo na fila  [0, 0.0654603869301209, 0.2461275497848323, 1.4781662763652763, 0.7310274097320897, 0, 0, 0, 0.4043451290694744, 0]\n"
     ]
    },
    {
     "data": {
      "image/png": "[encoded data removed]",
      "text/plain": [
       "<Figure size 432x288 with 1 Axes>"
      ]
     },
     "metadata": {
      "needs_background": "light"
     },
     "output_type": "display_data"
    }
   ],
   "source": [
    "tempo_fila = []\n",
    "for k in range(Numero_clientes):\n",
    "    tempo_fila.append(0)\n",
    "    \n",
    "for i in range(Numero_clientes):\n",
    "    if(i == 0):\n",
    "        tempo_fila[0] = 0\n",
    "    else:\n",
    "        if(tempo_chegada[i] < tempo_saida[i-1]):\n",
    "            tempo_fila[i] = tempo_saida[i-1] - tempo_chegada[i]\n",
    "        else:\n",
    "            tempo_fila[i] = 0\n",
    "\n",
    "print('Tempo na fila ', tempo_fila)\n",
    "\n",
    "plt.step( cliente, tempo_fila, 'bo-')\n",
    "plt.show()"
   ]
  },
  {
   "cell_type": "markdown",
   "metadata": {},
   "source": [
    "# Número de clientes no sistema\n",
    "\n",
    "O número de clientes no sistema pode ser calculado da seguinte forma\n",
    "- conta, a partir do primeiro cliente, o número de clientes que chegam antes do primeiro cliente sair\n",
    "- quando ele sai é contado -1\n",
    "- conta o número de clientes que chegam, a partir da saída do primeiro cliente, até a saída do segundo \n",
    "- e assim por diante, até o último cliente sair\n"
   ]
  },
  {
   "cell_type": "code",
   "execution_count": 143,
   "metadata": {},
   "outputs": [
    {
     "name": "stdout",
     "output_type": "stream",
     "text": [
      "eventos ent/saída [1.1409621678365072, 1.3677689278045915, 1.4332293147347124, 1.9846389747049304, 2.2307665244897628, 2.3281039040952565, 3.0809208676284516, 3.806270180460533, 3.8119482773605413, 3.9193509483085966, 4.0431849918728116, 4.359274595074151, 4.59163078480008, 5.157675928526732, 5.503489125074677, 5.816465747509356, 6.22081087657883, 6.26131935071664, 6.319998367811511, 6.4731343713382925]\n",
      "Clientes no sistema [1, 2, 1, 2, 1, 2, 3, 2, 1, 0, 1, 0, 1, 0, 1, 2, 1, 0, 1, 0]\n",
      "0\n"
     ]
    },
    {
     "data": {
      "image/png": "[encoded data removed]",
      "text/plain": [
       "<Figure size 432x288 with 1 Axes>"
      ]
     },
     "metadata": {
      "needs_background": "light"
     },
     "output_type": "display_data"
    }
   ],
   "source": [
    "clientes_no_sistema = []\n",
    "eventos_ES = [] # tempos de chegada e de saída ordenados\n",
    "\n",
    "dobro = 2*Numero_clientes\n",
    "for k in range(dobro):\n",
    "    clientes_no_sistema.append(0)\n",
    "    eventos_ES.append(0)\n",
    "\n",
    "contador = 0\n",
    "j = 0\n",
    "\n",
    "for i in range(Numero_clientes):\n",
    "    if(j < Numero_clientes):\n",
    "        while((tempo_saida[i] > tempo_chegada[j])): # and (i < (Numero_clientes-1))):\n",
    "            contador += 1 \n",
    "            clientes_no_sistema[i+j] = contador\n",
    "            eventos_ES[j+i] = tempo_chegada[j]\n",
    "            j += 1\n",
    "            if(j == Numero_clientes):\n",
    "                break\n",
    "        contador -=1\n",
    "        clientes_no_sistema[i+j] = contador\n",
    "        eventos_ES[j+i] = tempo_saida[i]\n",
    "\n",
    "print('eventos ent/saída', eventos_ES)\n",
    "print('Clientes no sistema', clientes_no_sistema)\n",
    "print(contador)\n",
    "\n",
    "plt.step(eventos_ES, clientes_no_sistema, '-bo')\n",
    "plt.show()"
   ]
  },
  {
   "cell_type": "code",
   "execution_count": null,
   "metadata": {},
   "outputs": [],
   "source": []
  },
  {
   "cell_type": "markdown",
   "metadata": {},
   "source": [
    "## Estimativa da taxa de chegadas\n",
    "\n",
    "$\\hat{\\lambda} =$ Numero de clientes/tempo de chegada do último cliente\n",
    "\n",
    "taxa correta, (a que gerou os valores) $\\lambda = 1$ cliente/min"
   ]
  },
  {
   "cell_type": "code",
   "execution_count": 144,
   "metadata": {},
   "outputs": [
    {
     "name": "stdout",
     "output_type": "stream",
     "text": [
      "Taxa de chegadas estimada 1.5822788896483213  clientes/min\n"
     ]
    }
   ],
   "source": [
    "lambda_estimado = Numero_clientes/tempo_chegada[Numero_clientes-1]\n",
    "\n",
    "print('Taxa de chegadas estimada', lambda_estimado, ' clientes/min')"
   ]
  },
  {
   "cell_type": "markdown",
   "metadata": {},
   "source": [
    "## Estimativa da taxa de atendimento (serviço)\n",
    "\n",
    "$\\hat{\\lambda}_s =$ Numero de clientes/soma dos tempos de atendimento\n",
    "\n",
    "taxa correta, (a que gerou os valores) $\\lambda_s = 1,5$ cliente/min"
   ]
  },
  {
   "cell_type": "code",
   "execution_count": 145,
   "metadata": {},
   "outputs": [
    {
     "name": "stdout",
     "output_type": "stream",
     "text": [
      "Taxa de atendimento estimada 2.1874707223462297  clientes/min\n"
     ]
    }
   ],
   "source": [
    "lambda_s_estimado = Numero_clientes/sum(tempo_servico)\n",
    "\n",
    "print('Taxa de atendimento estimada', lambda_s_estimado, ' clientes/min')"
   ]
  },
  {
   "cell_type": "markdown",
   "metadata": {},
   "source": [
    "## Utilização do sistema estimada\n",
    "\n",
    "Ou a probabilidade do atendente estar ocupado\n",
    "\n",
    "$\\hat{\\rho} = \\hat{\\lambda}/\\hat{\\lambda}_s$\n",
    "\n",
    "Valor correto $\\rho = \\lambda/\\lambda_s = 1/1,5 = 0,6667$"
   ]
  },
  {
   "cell_type": "code",
   "execution_count": 146,
   "metadata": {},
   "outputs": [
    {
     "name": "stdout",
     "output_type": "stream",
     "text": [
      "Utilização do sistema estimada  0.7233371736062397\n",
      "Utilização do sistema  0.6666666666666666\n"
     ]
    }
   ],
   "source": [
    "rho_estimado = lambda_estimado/lambda_s_estimado\n",
    "rho = taxa_chegadas/taxa_servico\n",
    "\n",
    "print('Utilização do sistema estimada ', rho_estimado)\n",
    "print('Utilização do sistema ', rho)"
   ]
  },
  {
   "cell_type": "markdown",
   "metadata": {},
   "source": [
    "## Número médio de clientes estimado no sistema\n",
    "\n",
    "$E\\hat{N} = \\hat{\\rho} / (1-\\hat{\\rho})$\n",
    "\n",
    "O valor esperado do número de clientes no sistema é dado por\n",
    "\n",
    "$EN = \\rho / (1-\\rho)$\n",
    "\n"
   ]
  },
  {
   "cell_type": "code",
   "execution_count": 147,
   "metadata": {},
   "outputs": [
    {
     "name": "stdout",
     "output_type": "stream",
     "text": [
      "Número médio de clientes no sistema estimado  2.6145080025198264\n",
      "Número médio de clientes no sistema  1.9999999999999998\n"
     ]
    }
   ],
   "source": [
    "EN_estimado =  rho_estimado / (1 - rho_estimado)\n",
    "EN = rho / (1 - rho)\n",
    "\n",
    "print('Número médio de clientes no sistema estimado ', EN_estimado)\n",
    "print('Número médio de clientes no sistema ', EN)"
   ]
  },
  {
   "cell_type": "code",
   "execution_count": null,
   "metadata": {},
   "outputs": [],
   "source": []
  }
 ],
 "metadata": {
  "kernelspec": {
   "display_name": "Python 3",
   "language": "python",
   "name": "python3"
  },
  "language_info": {
   "codemirror_mode": {
    "name": "ipython",
    "version": 3
   },
   "file_extension": ".py",
   "mimetype": "text/x-python",
   "name": "python",
   "nbconvert_exporter": "python",
   "pygments_lexer": "ipython3",
   "version": "3.7.6"
  }
 },
 "nbformat": 4,
 "nbformat_minor": 4
}
