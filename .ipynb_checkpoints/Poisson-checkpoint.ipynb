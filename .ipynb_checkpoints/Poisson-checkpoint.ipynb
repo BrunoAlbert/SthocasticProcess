{
 "cells": [
  {
   "cell_type": "markdown",
   "metadata": {},
   "source": [
    "# Processo de Poisson\n",
    "\n",
    "Exemplo:"
   ]
  },
  {
   "cell_type": "code",
   "execution_count": 3,
   "metadata": {},
   "outputs": [],
   "source": [
    "\"\"\"\n",
    "@author: albert\n",
    "IQuanta - DEE - UFCG\n",
    "Data: março 2022\n",
    "Versão: 1.0\n",
    "\"\"\"\n",
    "\n",
    "import random\n",
    "import matplotlib.pyplot as plt\n",
    "import numpy as np\n",
    "from numpy import random\n",
    "import math"
   ]
  },
  {
   "cell_type": "markdown",
   "metadata": {},
   "source": [
    "## Tempo entre chegadas\n",
    "\n",
    "Nesse modelo os clientes chegam de acordo com uma distribuição de Poisson, portanto o tempo entre chegadas de clientes tem uma distribuição exponencial\n",
    "\n",
    "São geradas 10 variáveis aleatórias exponenciais com com taxa de chegada de $\\lambda$ cliente/min.\n"
   ]
  },
  {
   "cell_type": "code",
   "execution_count": 4,
   "metadata": {},
   "outputs": [
    {
     "name": "stdout",
     "output_type": "stream",
     "text": [
      "Tempo entre chegadas =  [1.97982558e+00 1.56916726e+00 1.73317539e+00 5.18662363e-01\n",
      " 1.60300361e+00 7.62787033e-01 4.22403565e-01 1.98297892e+00\n",
      " 1.40317513e-03 8.64439648e-01]\n"
     ]
    }
   ],
   "source": [
    "Numero_clientes = 10\n",
    "taxa_chegadas = 0.5         # número de clientes por minuto\n",
    "\n",
    "\n",
    "# tempo_entrechegadas = [0.854, 0.184, 3.22, 2.65, 1.59, 0.384, 0.993, 0.07, 2.33, 0.503]\n",
    "tempo_entrechegadas = random.exponential(scale=(1/taxa_chegadas), size=(Numero_clientes))\n",
    "print('Tempo entre chegadas = ', tempo_entrechegadas)"
   ]
  },
  {
   "cell_type": "markdown",
   "metadata": {},
   "source": [
    "Tempo de chegada\n",
    "\n",
    "O primeiro cliente chega ao sistema em"
   ]
  },
  {
   "cell_type": "code",
   "execution_count": 5,
   "metadata": {},
   "outputs": [
    {
     "name": "stdout",
     "output_type": "stream",
     "text": [
      "1.9798255782673535  min\n"
     ]
    }
   ],
   "source": [
    "print(tempo_entrechegadas[0], ' min')"
   ]
  },
  {
   "cell_type": "markdown",
   "metadata": {},
   "source": [
    "o segundo cliente chega ao sistema em"
   ]
  },
  {
   "cell_type": "code",
   "execution_count": 6,
   "metadata": {},
   "outputs": [
    {
     "name": "stdout",
     "output_type": "stream",
     "text": [
      "3.548992835801123  min\n"
     ]
    }
   ],
   "source": [
    "print(tempo_entrechegadas[0] + tempo_entrechegadas[1], ' min')"
   ]
  },
  {
   "cell_type": "markdown",
   "metadata": {},
   "source": [
    "Assim teremos os seguintes tempos de chegada"
   ]
  },
  {
   "cell_type": "code",
   "execution_count": 17,
   "metadata": {},
   "outputs": [
    {
     "name": "stdout",
     "output_type": "stream",
     "text": [
      "Tempo de chegada  [0, 1.5691672575337696, 3.302342651538972, 3.8210050150070742, 5.424008627505703, 6.186795660946646, 6.609199226210368, 8.592178143661155, 8.593581318794042, 9.45802096642747]\n"
     ]
    },
    {
     "data": {
      "image/png": "[encoded data removed]",
      "text/plain": [
       "<Figure size 640x480 with 1 Axes>"
      ]
     },
     "metadata": {},
     "output_type": "display_data"
    }
   ],
   "source": [
    "tempo_chegada = []\n",
    "for k in range(Numero_clientes):\n",
    "    tempo_chegada.append(0)\n",
    "    \n",
    "for i in range(Numero_clientes):\n",
    "    if(i == 0):\n",
    "        tempo_chegada[1] = tempo_entrechegadas[0]\n",
    "    else:\n",
    "        tempo_chegada[i] = tempo_chegada[i-1] + tempo_entrechegadas[i]\n",
    "\n",
    "print('Tempo de chegada ', tempo_chegada)\n",
    "\n",
    "cliente = list(range(0, Numero_clientes))\n",
    "plt.step(tempo_chegada, cliente, 'bo-')\n",
    "plt.show()"
   ]
  },
  {
   "cell_type": "code",
   "execution_count": null,
   "metadata": {},
   "outputs": [],
   "source": []
  }
 ],
 "metadata": {
  "kernelspec": {
   "display_name": "Python 3 (ipykernel)",
   "language": "python",
   "name": "python3"
  },
  "language_info": {
   "codemirror_mode": {
    "name": "ipython",
    "version": 3
   },
   "file_extension": ".py",
   "mimetype": "text/x-python",
   "name": "python",
   "nbconvert_exporter": "python",
   "pygments_lexer": "ipython3",
   "version": "3.9.15"
  }
 },
 "nbformat": 4,
 "nbformat_minor": 4
}
