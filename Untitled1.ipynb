{
 "cells": [
  {
   "cell_type": "markdown",
   "metadata": {},
   "source": [
    "# Correlação de Temperaturas\n",
    "\n",
    "Tomamos a temperatura de Campina Grande em março de 2015 às 6, 11 e 12 horas, fonte INMET.\n",
    "\n",
    "Pretende-se calcular esperanças, desvios padrão, e correlações e também mostrar os histogramas e os diagramas de espalhamento dos 3 horários acima.\n",
    "\n",
    "## Carregar as temperaturas"
   ]
  },
  {
   "cell_type": "code",
   "execution_count": null,
   "metadata": {},
   "outputs": [],
   "source": [
    "\"\"\"\n",
    "Created on Mon Jul 19 10:55:44 2021\n",
    "\n",
    "@author: albert\n",
    "\"\"\"\n",
    "import statistics as st\n",
    "import random\n",
    "import matplotlib.pyplot as plt\n",
    "import numpy as np\n",
    "import math\n",
    "\n",
    "# abrir os arquivos\n",
    "\n",
    "ft6 = open(\"temperatura_06h_03_2015\")\n",
    "ft11 = open(\"temperatura_11h_03_2015\")\n",
    "ft12 = open(\"temperatura_12h_03_2015\")\n",
    "\n",
    "t6 = ft6.readlines()\n",
    "t11 = ft11.readlines()\n",
    "t12 = ft12.readlines()\n",
    "\n",
    "T6 = list(map(lambda var: float(var), t6))\n",
    "T11 = list(map(lambda var: float(var), t11))\n",
    "T12 = list(map(lambda var: float(var), t12))\n",
    "\n",
    "print(\"Temperaturas às 6 h em CG mar/2015 \", T6)\n",
    "print(\"Temperaturas às 11 h em CG mar/2015 \", T11)\n",
    "print(\"Temperaturas às 12 h em CG mar/2015 \", T12)"
   ]
  }
 ],
 "metadata": {
  "kernelspec": {
   "display_name": "Python 3",
   "language": "python",
   "name": "python3"
  },
  "language_info": {
   "codemirror_mode": {
    "name": "ipython",
    "version": 3
   },
   "file_extension": ".py",
   "mimetype": "text/x-python",
   "name": "python",
   "nbconvert_exporter": "python",
   "pygments_lexer": "ipython3",
   "version": "3.7.6"
  }
 },
 "nbformat": 4,
 "nbformat_minor": 4
}
