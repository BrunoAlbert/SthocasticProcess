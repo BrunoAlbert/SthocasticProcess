{
 "cells": [
  {
   "cell_type": "markdown",
   "metadata": {},
   "source": [
    "# Fractais com cadeias de Markov *\n",
    "\n",
    "Considere uma tela de 101 X 101 pontos. Os estados da cadeia de Markov são os pontos nessa tela, temos então $101² = 10.201$ estados. Os estados são definidos pelas coordenadas $(i,j)$ na tela, $i,j = 0,1,\\ldots,100$.\n",
    "\n",
    "Definimos o processo $X[n] = (I[n],J[n])$ em que $I[n] = i$ e $J[n] = j$. O próximo estado $X[n+1]$ é determinado por\n",
    "\n",
    "$X[n+1] = (X[n] + Y[n+1])/2, quad n \\ge 1$ \n",
    "\n",
    "em que $Y[n]$ é um dos três pontos $(0,0)$, $(100,0)$ e $(50,100)$, escolhidos ao acaso. A dinâmica da cadeia de Markov é dada pelo algoritmo:\n",
    " 1. Para $n=0$, defina um estado inicial $X[0] = (I[0],J[0])$\n",
    " 2. Defina N como o número de interações\n",
    " 3. Para $n < N $ {\n",
    " \n",
    "    3.1. Escolha $Y[n+1]$\n",
    "    \n",
    "    3.2. Calcule $X[n+1] = (X[n] + Y[n+1])/2$ e arredonde as coordenadas\n",
    "    \n",
    "    3.3. Mostre o ponto $X[n+1]$ no gráfico\n",
    "    \n",
    "    3.4. Faça $X[n] = X[n+1]$ }\n",
    "    \n",
    "(*) Intuitive probability ... S. Kay, seção 12.9, pg 765"
   ]
  },
  {
   "cell_type": "code",
   "execution_count": 28,
   "metadata": {},
   "outputs": [
    {
     "data": {
      "image/png": "[encoded data removed]",
      "text/plain": [
       "<Figure size 504x504 with 1 Axes>"
      ]
     },
     "metadata": {
      "needs_background": "light"
     },
     "output_type": "display_data"
    }
   ],
   "source": [
    "\"\"\"\n",
    "@author: albert\n",
    "IQuanta - DEE - UFCG\n",
    "Data: novembro 2022\n",
    "Versão: 1.0\n",
    "\"\"\"\n",
    "\n",
    "import random\n",
    "import matplotlib.pyplot as plt\n",
    "import numpy as np\n",
    "from numpy import random\n",
    "import math\n",
    "\n",
    "N = 10   # número de interações\n",
    "\n",
    "# pontos de referência\n",
    "r0 = [0,0]\n",
    "r1 = [100,0]\n",
    "r2 = [50,100]\n",
    "\n",
    "x0 = [10,80]    # estado inicial\n",
    "\n",
    "\n",
    "plt.figure(figsize=(7,7))\n",
    "plt.ion()\n",
    "plt.plot(x0[0],x0[1], '.')\n",
    "\n",
    "# limites do gráfico\n",
    "plt.xlim(0,100)\n",
    "plt.ylim(0,100)\n",
    "\n",
    "#plt.hold()\n",
    "#plt.show()\n",
    "\n",
    "xn = x0 # estado atual\n",
    "\n",
    "for i in range(1,N):\n",
    "    # escolha as referências\n",
    "    j = math.floor(3*random.random())\n",
    "    if(j == 0):\n",
    "        yn1 = r0\n",
    "    elif(j == 1):\n",
    "        yn1 = r1\n",
    "    else:\n",
    "        yn1 = r2\n",
    "    xn1 = [(xn[0] + yn1[0])/2, (xn[1] + yn1[1])/2] # próximo estado\n",
    "    plt.plot(xn1[0],xn1[1], '.')\n",
    "    \n",
    "#    plt.hold(True)\n",
    "#    plt.show()\n",
    "    \n",
    "    xn = xn1  # atualiza o estado atual\n",
    "plt.show()\n"
   ]
  },
  {
   "cell_type": "code",
   "execution_count": null,
   "metadata": {},
   "outputs": [],
   "source": []
  }
 ],
 "metadata": {
  "kernelspec": {
   "display_name": "Python 3",
   "language": "python",
   "name": "python3"
  },
  "language_info": {
   "codemirror_mode": {
    "name": "ipython",
    "version": 3
   },
   "file_extension": ".py",
   "mimetype": "text/x-python",
   "name": "python",
   "nbconvert_exporter": "python",
   "pygments_lexer": "ipython3",
   "version": "3.7.6"
  }
 },
 "nbformat": 4,
 "nbformat_minor": 4
}
