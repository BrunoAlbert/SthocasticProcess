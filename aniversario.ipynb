{
 "cells": [
  {
   "cell_type": "markdown",
   "metadata": {},
   "source": [
    "# Problema do Aniversário\n",
    "\n",
    "Quantos alunos de Processos Estocásticos são necessários para termos mais que 50% de chances de pelo menos dois alunos com a mesma data de aniversário?\n",
    "\n",
    "## Solução:\n",
    "\n",
    "Supomos que cada aluno pode ter nascido em qualquer dia com igual probabilidade\n",
    "\n",
    "$P[\\text{data nascimento aluno qualquer}] = 1/365$\n",
    "\n",
    "Normalmente quando temos o termo \"pelo menos\" é mais fácil calcular essa probabilidade pelo seu complemento\n",
    "\n",
    "Definimos os eventos:\n",
    "\n",
    "$A = \\{\\text{pelo menos 2 alunos tem o mesmo aniversário}\\} = \\{\\text{2 alunos ou 3 alunos ou ... tem o mesmo aniv.}\\}$\n",
    "\n",
    "$B = \\{\\text{nenhum aluno tem o mesmo aniv.}\\}$\n",
    "\n",
    "então \n",
    "\n",
    "$P[A] = 1 - P[B]$\n",
    "\n",
    "Esse problema pode ser visto como uma urna contendo 365 bolas numeradas de 1 a 365 correspondendo a cada dia do ano. Uma bola é sorteada, seu valor anotado e colocada de volta na urna, o sorteio é repetido N vezes, número de alunos necessários, até que $P[A] \\ge 0,5$, o evento $A$ seria agora pelo menos 2 bolas com o mesmo número.\n",
    "\n",
    "Raciocinando com números pequenos, por exemplo, 4 bolas numeradas de 1 a 4 e 2 sorteios (o ano teria 4 dias e a turma dois alunos) teríamos então \n",
    "\n",
    "$4^2 = 16$ possibilidades \n",
    "\n",
    "(1,1) (1,2) (1,3) (1,4)\n",
    "\n",
    "(2,1) (2,2) (2,3) (2,4)\n",
    "\n",
    "(3,1) (3,2) (3,3) (3,4)\n",
    "\n",
    "(4,1) (4,2) (4,3) (4,4)\n",
    "\n",
    "e \n",
    "\n",
    "$4\\times3 = 12 = (\\text{AR})_4^2$ com bolas diferentes em dois sorteios, o que equivale a um sorteio e a não reposição da bola na urna.\n",
    "\n",
    "Para 365 bolas e N sorteios\n",
    "\n",
    "$365^N$ N-tuplas e $(\\text{AR})_{365}^N$ bolas diferentes em N sorteios\n",
    "\n",
    "Assim\n",
    "\n",
    "$P[B] = \\frac{(\\text{AR})_{365}^N}{ 365^N}$  e $P[A] = 1 - P[B]$\n",
    "\n",
    "## Cáculo de P[B]\n",
    "\n",
    "Para N = 2 $P[B(2)] = 365\\times364/365^2 = 364/365$\n",
    "\n",
    "Para N = 3 $P[B(3)] = 365\\times364\\times363/365^3 = (364/365)(363/365) = P[B(2)](363/365) = P[B(2)](365 - (3-1)/365$\n",
    "\n",
    "Para N = k $P[B(k)] = P[B(k-1)](365-k+1)/365$\n"
   ]
  },
  {
   "cell_type": "code",
   "execution_count": 1,
   "metadata": {},
   "outputs": [
    {
     "data": {
      "image/png": "[encoded data removed]",
      "text/plain": [
       "<Figure size 864x432 with 1 Axes>"
      ]
     },
     "metadata": {
      "needs_background": "light"
     },
     "output_type": "display_data"
    }
   ],
   "source": [
    "\"\"\"\n",
    "@author: albert\n",
    "IQuanta - DEE - UFCG\n",
    "Data: maio 2022\n",
    "Versão: 1.0\n",
    "\"\"\"\n",
    "\n",
    "import random\n",
    "import matplotlib.pyplot as plt\n",
    "import numpy as np\n",
    "from numpy import random\n",
    "import math\n",
    "\n",
    "N = range(2,51) # número de alunos\n",
    "N_alunos = []\n",
    "B = []          # nenhum aluno tem o mesmo aniv.\n",
    "A = []          # pelo menos 2 alunos tem o mesmo aniversário\n",
    "\n",
    "for i in N:\n",
    "    N_alunos.append(i)\n",
    "    B.append(i)\n",
    "    A.append(i)\n",
    "\n",
    "# Implementa o algoritmo: Para N = k 𝑃[𝐵(𝑘)]=𝑃[𝐵(𝑘−1)](365−𝑘+1)/365\n",
    "aux = 364\n",
    "for j in range(49):\n",
    "    if(j == 0):\n",
    "        B[j] = aux/365\n",
    "        A[j] = 1 - B[j]\n",
    "    else:\n",
    "        aux -= 1\n",
    "        B[j] = B[j-1]*aux/365\n",
    "        A[j] = 1 - B[j]\n",
    "\n",
    "plt.figure(figsize=(12,6))\n",
    "plt.plot(N_alunos,A, 'o-', color=\"blue\", linewidth=2)\n",
    "plt.ylabel(\"P[A]\", fontsize=20)\n",
    "plt.xlabel(\"Número de Alunos\", fontsize=20)\n",
    "plt.grid(True)\n",
    "plt.show()\n",
    "\n",
    "\n"
   ]
  }
 ],
 "metadata": {
  "kernelspec": {
   "display_name": "Python 3",
   "language": "python",
   "name": "python3"
  },
  "language_info": {
   "codemirror_mode": {
    "name": "ipython",
    "version": 3
   },
   "file_extension": ".py",
   "mimetype": "text/x-python",
   "name": "python",
   "nbconvert_exporter": "python",
   "pygments_lexer": "ipython3",
   "version": "3.7.6"
  }
 },
 "nbformat": 4,
 "nbformat_minor": 4
}
